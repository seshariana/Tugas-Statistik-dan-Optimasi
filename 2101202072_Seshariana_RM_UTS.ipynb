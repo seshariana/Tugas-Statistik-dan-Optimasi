{
  "nbformat": 4,
  "nbformat_minor": 0,
  "metadata": {
    "colab": {
      "name": "2101202072_Seshariana RM_UTS.ipynb",
      "provenance": [],
      "collapsed_sections": [],
      "mount_file_id": "1a9Tne-6kQj9XGOvwLQlgQCPzj3NR2RT2",
      "authorship_tag": "ABX9TyPGvxOsNVtAZRWXmA2qNo0d",
      "include_colab_link": true
    },
    "kernelspec": {
      "name": "python3",
      "display_name": "Python 3"
    },
    "language_info": {
      "name": "python"
    }
  },
  "cells": [
    {
      "cell_type": "markdown",
      "metadata": {
        "id": "view-in-github",
        "colab_type": "text"
      },
      "source": [
        "<a href=\"https://colab.research.google.com/github/seshariana/Tugas-Statistik-dan-Optimasi/blob/main/2101202072_Seshariana_RM_UTS.ipynb\" target=\"_parent\"><img src=\"https://colab.research.google.com/assets/colab-badge.svg\" alt=\"Open In Colab\"/></a>"
      ]
    },
    {
      "cell_type": "code",
      "metadata": {
        "colab": {
          "base_uri": "https://localhost:8080/"
        },
        "id": "wn2aB71-LiT6",
        "outputId": "2627beac-1f53-4beb-c3a7-5a81335532e1"
      },
      "source": [
        "from google.colab import drive\n",
        "drive.mount('/content/drive')"
      ],
      "execution_count": 64,
      "outputs": [
        {
          "output_type": "stream",
          "text": [
            "Drive already mounted at /content/drive; to attempt to forcibly remount, call drive.mount(\"/content/drive\", force_remount=True).\n"
          ],
          "name": "stdout"
        }
      ]
    },
    {
      "cell_type": "code",
      "metadata": {
        "colab": {
          "base_uri": "https://localhost:8080/"
        },
        "id": "6x2c0u9zL3kS",
        "outputId": "9aff9e84-9c99-466b-9c81-3bec9f387004"
      },
      "source": [
        "cd /content/drive/MyDrive/Colab\\ Notebooks"
      ],
      "execution_count": 65,
      "outputs": [
        {
          "output_type": "stream",
          "text": [
            "/content/drive/MyDrive/Colab Notebooks\n"
          ],
          "name": "stdout"
        }
      ]
    },
    {
      "cell_type": "code",
      "metadata": {
        "colab": {
          "base_uri": "https://localhost:8080/"
        },
        "id": "cZ83TW59L-SB",
        "outputId": "47bd32a6-bf2b-46a2-bc1e-4ff7baeced06"
      },
      "source": [
        "ls"
      ],
      "execution_count": 66,
      "outputs": [
        {
          "output_type": "stream",
          "text": [
            " 2101202072_SesharianaRM.ipynb          Iris_Clustering.ipynb\n",
            " \u001b[0m\u001b[01;36m3scene\u001b[0m@                                README.md\n",
            " Cancer_Clustering.ipynb                scenes_nn_4_layers.ipynb\n",
            " Cancer_Clustering_SesharianaRM.ipynb   Simple_ANN_in_Python.ipynb\n",
            "'classify_iris_ANN(1) (1).ipynb'        SLO-main.zip\n",
            "'classify_iris_ANN(1).ipynb'            Untitled\n",
            " classify_iris_ANN.ipynb                Untitled0.ipynb\n",
            " data_cancer.csv                        Untitled1.ipynb\n"
          ],
          "name": "stdout"
        }
      ]
    },
    {
      "cell_type": "code",
      "metadata": {
        "id": "rEM_IHNCMBHX"
      },
      "source": [
        "# import the necessary packages\n",
        "from keras.models import Sequential\n",
        "from keras.layers.core import Activation\n",
        "from keras.layers.core import Flatten\n",
        "from keras.layers.core import Dense\n",
        "from keras.optimizers import Adam\n",
        "from sklearn.preprocessing import LabelBinarizer\n",
        "from sklearn.model_selection import train_test_split\n",
        "from sklearn.metrics import classification_report\n",
        "from PIL import Image\n",
        "from imutils import paths\n",
        "import numpy as np\n",
        "import os"
      ],
      "execution_count": 67,
      "outputs": []
    },
    {
      "cell_type": "code",
      "metadata": {
        "colab": {
          "base_uri": "https://localhost:8080/"
        },
        "id": "fs9OrikyMFrS",
        "outputId": "479f8eeb-e4cf-4b54-843d-4f4b0a8d8565"
      },
      "source": [
        "# grab all image paths in the input dataset directory, then initialize\n",
        "# our list of images and corresponding class labels\n",
        "print(\"[INFO] loading images...\")\n",
        "imagePaths = paths.list_images(\"3scene\")\n",
        "data = []\n",
        "labels = []"
      ],
      "execution_count": 68,
      "outputs": [
        {
          "output_type": "stream",
          "text": [
            "[INFO] loading images...\n"
          ],
          "name": "stdout"
        }
      ]
    },
    {
      "cell_type": "code",
      "metadata": {
        "id": "lLIwjGpDMLYC"
      },
      "source": [
        "# loop over our input images\n",
        "for imagePath in imagePaths:\n",
        "\t# load the input image from disk, resize it to 64x64 pixels, scale\n",
        "\t# the pixel intensities to the range [0, 1], and then update our\n",
        "\t# images list\n",
        "\timage = Image.open(imagePath)\n",
        " #bisa pasang preprocessing disini jika mau, seperti filterring, dll\n",
        "\timage = np.array(image.resize((64, 64))) / 255.0 #normalisasi\n",
        "\tdata.append(image)\n",
        "\n",
        "\t# extract the class label from the file path and update the\n",
        "\t# labels list\n",
        "\tlabel = imagePath.split(os.path.sep)[-2]\n",
        "\tlabels.append(label)"
      ],
      "execution_count": 69,
      "outputs": []
    },
    {
      "cell_type": "code",
      "metadata": {
        "colab": {
          "base_uri": "https://localhost:8080/"
        },
        "id": "5ZHypI-gNEt2",
        "outputId": "b372d2d4-cdf9-4216-b7a0-df071572d7f4"
      },
      "source": [
        "print(labels)"
      ],
      "execution_count": 70,
      "outputs": [
        {
          "output_type": "stream",
          "text": [
            "['forest', 'forest', 'forest', 'forest', 'forest', 'forest', 'forest', 'forest', 'forest', 'forest', 'forest', 'forest', 'forest', 'forest', 'forest', 'forest', 'forest', 'forest', 'forest', 'forest', 'forest', 'forest', 'forest', 'forest', 'forest', 'forest', 'forest', 'forest', 'forest', 'forest', 'forest', 'forest', 'forest', 'forest', 'forest', 'forest', 'forest', 'forest', 'forest', 'forest', 'forest', 'forest', 'forest', 'forest', 'forest', 'forest', 'forest', 'forest', 'forest', 'forest', 'forest', 'forest', 'forest', 'forest', 'forest', 'forest', 'forest', 'forest', 'forest', 'forest', 'forest', 'forest', 'forest', 'forest', 'forest', 'forest', 'forest', 'forest', 'forest', 'forest', 'forest', 'forest', 'forest', 'forest', 'forest', 'forest', 'forest', 'forest', 'forest', 'forest', 'forest', 'forest', 'forest', 'forest', 'forest', 'forest', 'forest', 'forest', 'forest', 'forest', 'forest', 'forest', 'forest', 'forest', 'forest', 'forest', 'forest', 'forest', 'forest', 'forest', 'forest', 'forest', 'forest', 'forest', 'forest', 'forest', 'forest', 'forest', 'forest', 'forest', 'forest', 'forest', 'forest', 'forest', 'forest', 'forest', 'forest', 'forest', 'forest', 'forest', 'forest', 'forest', 'forest', 'forest', 'forest', 'forest', 'forest', 'forest', 'forest', 'forest', 'forest', 'forest', 'forest', 'forest', 'forest', 'forest', 'forest', 'forest', 'forest', 'forest', 'forest', 'forest', 'forest', 'forest', 'forest', 'forest', 'forest', 'forest', 'forest', 'forest', 'forest', 'forest', 'forest', 'forest', 'forest', 'forest', 'forest', 'forest', 'forest', 'forest', 'forest', 'forest', 'forest', 'forest', 'forest', 'forest', 'forest', 'forest', 'forest', 'forest', 'forest', 'forest', 'forest', 'forest', 'forest', 'forest', 'forest', 'forest', 'forest', 'forest', 'forest', 'forest', 'forest', 'forest', 'forest', 'forest', 'forest', 'forest', 'forest', 'forest', 'forest', 'forest', 'forest', 'forest', 'forest', 'forest', 'forest', 'forest', 'forest', 'forest', 'forest', 'forest', 'forest', 'forest', 'forest', 'forest', 'forest', 'forest', 'forest', 'forest', 'forest', 'forest', 'forest', 'forest', 'forest', 'forest', 'forest', 'forest', 'forest', 'forest', 'forest', 'forest', 'forest', 'forest', 'forest', 'forest', 'forest', 'forest', 'forest', 'forest', 'forest', 'forest', 'forest', 'forest', 'forest', 'forest', 'forest', 'forest', 'forest', 'forest', 'forest', 'forest', 'forest', 'forest', 'forest', 'forest', 'forest', 'forest', 'forest', 'forest', 'forest', 'forest', 'forest', 'forest', 'forest', 'forest', 'forest', 'forest', 'forest', 'forest', 'forest', 'forest', 'forest', 'forest', 'forest', 'forest', 'forest', 'forest', 'forest', 'forest', 'forest', 'forest', 'forest', 'forest', 'forest', 'forest', 'forest', 'forest', 'forest', 'forest', 'forest', 'forest', 'forest', 'forest', 'forest', 'forest', 'forest', 'forest', 'forest', 'forest', 'forest', 'forest', 'forest', 'forest', 'forest', 'forest', 'forest', 'forest', 'forest', 'forest', 'forest', 'forest', 'forest', 'forest', 'forest', 'forest', 'forest', 'forest', 'forest', 'forest', 'forest', 'forest', 'forest', 'forest', 'forest', 'forest', 'forest', 'forest', 'forest', 'forest', 'forest', 'forest', 'forest', 'forest', 'forest', 'forest', 'forest', 'forest', 'highway', 'highway', 'highway', 'highway', 'highway', 'highway', 'highway', 'highway', 'highway', 'highway', 'highway', 'highway', 'highway', 'highway', 'highway', 'highway', 'highway', 'highway', 'highway', 'highway', 'highway', 'highway', 'highway', 'highway', 'highway', 'highway', 'highway', 'highway', 'highway', 'highway', 'highway', 'highway', 'highway', 'highway', 'highway', 'highway', 'highway', 'highway', 'highway', 'highway', 'highway', 'highway', 'highway', 'highway', 'highway', 'highway', 'highway', 'highway', 'highway', 'highway', 'highway', 'highway', 'highway', 'highway', 'highway', 'highway', 'highway', 'highway', 'highway', 'highway', 'highway', 'highway', 'highway', 'highway', 'highway', 'highway', 'highway', 'highway', 'highway', 'highway', 'highway', 'highway', 'highway', 'highway', 'highway', 'highway', 'highway', 'highway', 'highway', 'highway', 'highway', 'highway', 'highway', 'highway', 'highway', 'highway', 'highway', 'highway', 'highway', 'highway', 'highway', 'highway', 'highway', 'highway', 'highway', 'highway', 'highway', 'highway', 'highway', 'highway', 'highway', 'highway', 'highway', 'highway', 'highway', 'highway', 'highway', 'highway', 'highway', 'highway', 'highway', 'highway', 'highway', 'highway', 'highway', 'highway', 'highway', 'highway', 'highway', 'highway', 'highway', 'highway', 'highway', 'highway', 'highway', 'highway', 'highway', 'highway', 'highway', 'highway', 'highway', 'highway', 'highway', 'highway', 'highway', 'highway', 'highway', 'highway', 'highway', 'highway', 'highway', 'highway', 'highway', 'highway', 'highway', 'highway', 'highway', 'highway', 'highway', 'highway', 'highway', 'highway', 'highway', 'highway', 'highway', 'highway', 'highway', 'highway', 'highway', 'highway', 'highway', 'highway', 'highway', 'highway', 'highway', 'highway', 'highway', 'highway', 'highway', 'highway', 'highway', 'highway', 'highway', 'highway', 'highway', 'highway', 'highway', 'highway', 'highway', 'highway', 'highway', 'highway', 'highway', 'highway', 'highway', 'highway', 'highway', 'highway', 'highway', 'highway', 'highway', 'highway', 'highway', 'highway', 'highway', 'highway', 'highway', 'highway', 'highway', 'highway', 'highway', 'highway', 'highway', 'highway', 'highway', 'highway', 'highway', 'highway', 'highway', 'highway', 'highway', 'highway', 'highway', 'highway', 'highway', 'highway', 'highway', 'highway', 'highway', 'highway', 'highway', 'highway', 'highway', 'highway', 'highway', 'highway', 'highway', 'highway', 'highway', 'highway', 'highway', 'highway', 'highway', 'highway', 'highway', 'highway', 'highway', 'highway', 'highway', 'highway', 'highway', 'highway', 'highway', 'highway', 'highway', 'highway', 'highway', 'highway', 'highway', 'highway', 'highway', 'highway', 'highway', 'highway', 'highway', 'highway', 'highway', 'highway', 'highway', 'highway', 'coast', 'coast', 'coast', 'coast', 'coast', 'coast', 'coast', 'coast', 'coast', 'coast', 'coast', 'coast', 'coast', 'coast', 'coast', 'coast', 'coast', 'coast', 'coast', 'coast', 'coast', 'coast', 'coast', 'coast', 'coast', 'coast', 'coast', 'coast', 'coast', 'coast', 'coast', 'coast', 'coast', 'coast', 'coast', 'coast', 'coast', 'coast', 'coast', 'coast', 'coast', 'coast', 'coast', 'coast', 'coast', 'coast', 'coast', 'coast', 'coast', 'coast', 'coast', 'coast', 'coast', 'coast', 'coast', 'coast', 'coast', 'coast', 'coast', 'coast', 'coast', 'coast', 'coast', 'coast', 'coast', 'coast', 'coast', 'coast', 'coast', 'coast', 'coast', 'coast', 'coast', 'coast', 'coast', 'coast', 'coast', 'coast', 'coast', 'coast', 'coast', 'coast', 'coast', 'coast', 'coast', 'coast', 'coast', 'coast', 'coast', 'coast', 'coast', 'coast', 'coast', 'coast', 'coast', 'coast', 'coast', 'coast', 'coast', 'coast', 'coast', 'coast', 'coast', 'coast', 'coast', 'coast', 'coast', 'coast', 'coast', 'coast', 'coast', 'coast', 'coast', 'coast', 'coast', 'coast', 'coast', 'coast', 'coast', 'coast', 'coast', 'coast', 'coast', 'coast', 'coast', 'coast', 'coast', 'coast', 'coast', 'coast', 'coast', 'coast', 'coast', 'coast', 'coast', 'coast', 'coast', 'coast', 'coast', 'coast', 'coast', 'coast', 'coast', 'coast', 'coast', 'coast', 'coast', 'coast', 'coast', 'coast', 'coast', 'coast', 'coast', 'coast', 'coast', 'coast', 'coast', 'coast', 'coast', 'coast', 'coast', 'coast', 'coast', 'coast', 'coast', 'coast', 'coast', 'coast', 'coast', 'coast', 'coast', 'coast', 'coast', 'coast', 'coast', 'coast', 'coast', 'coast', 'coast', 'coast', 'coast', 'coast', 'coast', 'coast', 'coast', 'coast', 'coast', 'coast', 'coast', 'coast', 'coast', 'coast', 'coast', 'coast', 'coast', 'coast', 'coast', 'coast', 'coast', 'coast', 'coast', 'coast', 'coast', 'coast', 'coast', 'coast', 'coast', 'coast', 'coast', 'coast', 'coast', 'coast', 'coast', 'coast', 'coast', 'coast', 'coast', 'coast', 'coast', 'coast', 'coast', 'coast', 'coast', 'coast', 'coast', 'coast', 'coast', 'coast', 'coast', 'coast', 'coast', 'coast', 'coast', 'coast', 'coast', 'coast', 'coast', 'coast', 'coast', 'coast', 'coast', 'coast', 'coast', 'coast', 'coast', 'coast', 'coast', 'coast', 'coast', 'coast', 'coast', 'coast', 'coast', 'coast', 'coast', 'coast', 'coast', 'coast', 'coast', 'coast', 'coast', 'coast', 'coast', 'coast', 'coast', 'coast', 'coast', 'coast', 'coast', 'coast', 'coast', 'coast', 'coast', 'coast', 'coast', 'coast', 'coast', 'coast', 'coast', 'coast', 'coast', 'coast', 'coast', 'coast', 'coast', 'coast', 'coast', 'coast', 'coast', 'coast', 'coast', 'coast', 'coast', 'coast', 'coast', 'coast', 'coast', 'coast', 'coast', 'coast', 'coast', 'coast', 'coast', 'coast', 'coast', 'coast', 'coast', 'coast', 'coast', 'coast', 'coast', 'coast', 'coast', 'coast', 'coast', 'coast', 'coast', 'coast', 'coast', 'coast', 'coast', 'coast', 'coast', 'coast', 'coast', 'coast', 'coast', 'coast', 'coast', 'coast', 'coast', 'coast', 'coast', 'coast', 'coast', 'coast', 'coast', 'coast', 'coast', 'coast', 'coast', 'coast', 'coast', 'coast', 'coast', 'coast', 'coast', 'coast', 'coast', 'coast', 'coast', 'coast', 'coast', 'coast', 'coast', 'coast', 'coast', 'coast', 'coast', 'coast']\n"
          ],
          "name": "stdout"
        }
      ]
    },
    {
      "cell_type": "code",
      "metadata": {
        "id": "Qo1dv2YGNVfY"
      },
      "source": [
        "# encode the labels, converting them from strings to integers\n",
        "lb = LabelBinarizer()\n",
        "labels = lb.fit_transform(labels)"
      ],
      "execution_count": 71,
      "outputs": []
    },
    {
      "cell_type": "code",
      "metadata": {
        "colab": {
          "base_uri": "https://localhost:8080/"
        },
        "id": "IzdTg9OANbPK",
        "outputId": "2e2c7df4-12d3-406a-eaaf-c705656260b3"
      },
      "source": [
        "print(labels)"
      ],
      "execution_count": 72,
      "outputs": [
        {
          "output_type": "stream",
          "text": [
            "[[0 1 0]\n",
            " [0 1 0]\n",
            " [0 1 0]\n",
            " ...\n",
            " [1 0 0]\n",
            " [1 0 0]\n",
            " [1 0 0]]\n"
          ],
          "name": "stdout"
        }
      ]
    },
    {
      "cell_type": "code",
      "metadata": {
        "colab": {
          "base_uri": "https://localhost:8080/"
        },
        "id": "n7BNrCs-Nfuv",
        "outputId": "7eb3e4ce-7f27-47c6-e269-9071b1435bbb"
      },
      "source": [
        "print(np.array(data).shape)"
      ],
      "execution_count": 73,
      "outputs": [
        {
          "output_type": "stream",
          "text": [
            "(948, 64, 64, 3)\n"
          ],
          "name": "stdout"
        }
      ]
    },
    {
      "cell_type": "code",
      "metadata": {
        "colab": {
          "base_uri": "https://localhost:8080/"
        },
        "id": "Wx18BOHlNkJ3",
        "outputId": "c2a88e04-c90f-410c-f138-3b8069035a1f"
      },
      "source": [
        "# perform a training and testing split, using 75% of the data for\n",
        "# training and 25% for evaluation\n",
        "(trainX, testX, trainY, testY) = train_test_split(np.array(data),\tnp.array(labels), test_size=0.25)\n",
        "print(trainX.shape)\n",
        "print(testX.shape)"
      ],
      "execution_count": 74,
      "outputs": [
        {
          "output_type": "stream",
          "text": [
            "(711, 64, 64, 3)\n",
            "(237, 64, 64, 3)\n"
          ],
          "name": "stdout"
        }
      ]
    },
    {
      "cell_type": "code",
      "metadata": {
        "id": "BDARkJVtNtKa"
      },
      "source": [
        "from keras.models import Sequential\n",
        "from keras.layers.core import Flatten\n",
        "from keras.layers.core import Dense, Dropout\n",
        "\n",
        "model = Sequential(\n",
        "    [\n",
        "        Flatten(input_shape=(64*64*3,)),\n",
        "        Dense(256, activation=\"relu\"),\n",
        "        Dense(128, activation=\"relu\"),\n",
        "        Dropout(0.3),\n",
        "        Dense(128, activation=\"relu\"),\n",
        "        Dense(64, activation=\"relu\"),\n",
        "        Dropout(0.3),\n",
        "        Dense(64, activation=\"relu\"),\n",
        "        Dense(32, activation=\"relu\"),\n",
        "        Dense(3, activation = \"softmax\"),\n",
        "    ]\n",
        ")"
      ],
      "execution_count": 75,
      "outputs": []
    },
    {
      "cell_type": "code",
      "metadata": {
        "colab": {
          "base_uri": "https://localhost:8080/"
        },
        "id": "H93aFfDrNywy",
        "outputId": "fc6c740a-6af2-47ad-f50f-012c3f8a979a"
      },
      "source": [
        "model.summary()"
      ],
      "execution_count": 76,
      "outputs": [
        {
          "output_type": "stream",
          "text": [
            "Model: \"sequential_11\"\n",
            "_________________________________________________________________\n",
            "Layer (type)                 Output Shape              Param #   \n",
            "=================================================================\n",
            "flatten_11 (Flatten)         (None, 12288)             0         \n",
            "_________________________________________________________________\n",
            "dense_77 (Dense)             (None, 256)               3145984   \n",
            "_________________________________________________________________\n",
            "dense_78 (Dense)             (None, 128)               32896     \n",
            "_________________________________________________________________\n",
            "dropout_23 (Dropout)         (None, 128)               0         \n",
            "_________________________________________________________________\n",
            "dense_79 (Dense)             (None, 128)               16512     \n",
            "_________________________________________________________________\n",
            "dense_80 (Dense)             (None, 64)                8256      \n",
            "_________________________________________________________________\n",
            "dropout_24 (Dropout)         (None, 64)                0         \n",
            "_________________________________________________________________\n",
            "dense_81 (Dense)             (None, 64)                4160      \n",
            "_________________________________________________________________\n",
            "dense_82 (Dense)             (None, 32)                2080      \n",
            "_________________________________________________________________\n",
            "dense_83 (Dense)             (None, 3)                 99        \n",
            "=================================================================\n",
            "Total params: 3,209,987\n",
            "Trainable params: 3,209,987\n",
            "Non-trainable params: 0\n",
            "_________________________________________________________________\n"
          ],
          "name": "stdout"
        }
      ]
    },
    {
      "cell_type": "code",
      "metadata": {
        "colab": {
          "base_uri": "https://localhost:8080/"
        },
        "id": "i3jkwe2nN22T",
        "outputId": "0229c19e-02de-4321-e568-8dead9a65230"
      },
      "source": [
        "# train the model using the Adam optimizer\n",
        "print(\"[INFO] training network...\")\n",
        "opt = Adam(lr=1e-3, decay=1e-3)\n",
        "model.compile(loss=\"categorical_crossentropy\", optimizer=opt,\n",
        "\tmetrics=[\"accuracy\"])\n",
        "H = model.fit(trainX, trainY, validation_data=(testX, testY), epochs=100, batch_size=32)"
      ],
      "execution_count": 77,
      "outputs": [
        {
          "output_type": "stream",
          "text": [
            "[INFO] training network...\n",
            "Epoch 1/100\n",
            "WARNING:tensorflow:Model was constructed with shape (None, 12288) for input KerasTensor(type_spec=TensorSpec(shape=(None, 12288), dtype=tf.float32, name='flatten_11_input'), name='flatten_11_input', description=\"created by layer 'flatten_11_input'\"), but it was called on an input with incompatible shape (None, 64, 64, 3).\n",
            "WARNING:tensorflow:Model was constructed with shape (None, 12288) for input KerasTensor(type_spec=TensorSpec(shape=(None, 12288), dtype=tf.float32, name='flatten_11_input'), name='flatten_11_input', description=\"created by layer 'flatten_11_input'\"), but it was called on an input with incompatible shape (None, 64, 64, 3).\n",
            "21/23 [==========================>...] - ETA: 0s - loss: 1.4740 - accuracy: 0.3441WARNING:tensorflow:Model was constructed with shape (None, 12288) for input KerasTensor(type_spec=TensorSpec(shape=(None, 12288), dtype=tf.float32, name='flatten_11_input'), name='flatten_11_input', description=\"created by layer 'flatten_11_input'\"), but it was called on an input with incompatible shape (None, 64, 64, 3).\n",
            "23/23 [==============================] - 1s 37ms/step - loss: 1.4594 - accuracy: 0.3452 - val_loss: 1.1251 - val_accuracy: 0.2785\n",
            "Epoch 2/100\n",
            "23/23 [==============================] - 1s 27ms/step - loss: 1.1477 - accuracy: 0.3708 - val_loss: 1.0539 - val_accuracy: 0.3713\n",
            "Epoch 3/100\n",
            "23/23 [==============================] - 1s 28ms/step - loss: 1.0784 - accuracy: 0.4121 - val_loss: 0.9701 - val_accuracy: 0.4979\n",
            "Epoch 4/100\n",
            "23/23 [==============================] - 1s 27ms/step - loss: 1.0457 - accuracy: 0.4250 - val_loss: 0.8963 - val_accuracy: 0.5865\n",
            "Epoch 5/100\n",
            "23/23 [==============================] - 1s 28ms/step - loss: 0.9649 - accuracy: 0.4836 - val_loss: 0.8591 - val_accuracy: 0.5570\n",
            "Epoch 6/100\n",
            "23/23 [==============================] - 1s 28ms/step - loss: 0.9024 - accuracy: 0.5474 - val_loss: 0.7983 - val_accuracy: 0.6076\n",
            "Epoch 7/100\n",
            "23/23 [==============================] - 1s 28ms/step - loss: 0.9076 - accuracy: 0.5333 - val_loss: 0.7903 - val_accuracy: 0.5949\n",
            "Epoch 8/100\n",
            "23/23 [==============================] - 1s 28ms/step - loss: 0.8422 - accuracy: 0.5879 - val_loss: 0.7992 - val_accuracy: 0.5612\n",
            "Epoch 9/100\n",
            "23/23 [==============================] - 1s 29ms/step - loss: 0.8311 - accuracy: 0.5614 - val_loss: 0.7475 - val_accuracy: 0.6624\n",
            "Epoch 10/100\n",
            "23/23 [==============================] - 1s 27ms/step - loss: 0.7945 - accuracy: 0.6298 - val_loss: 0.7188 - val_accuracy: 0.5992\n",
            "Epoch 11/100\n",
            "23/23 [==============================] - 1s 27ms/step - loss: 0.7822 - accuracy: 0.5740 - val_loss: 0.6929 - val_accuracy: 0.7890\n",
            "Epoch 12/100\n",
            "23/23 [==============================] - 1s 28ms/step - loss: 0.7486 - accuracy: 0.6375 - val_loss: 0.7694 - val_accuracy: 0.7215\n",
            "Epoch 13/100\n",
            "23/23 [==============================] - 1s 26ms/step - loss: 0.7670 - accuracy: 0.6044 - val_loss: 0.6659 - val_accuracy: 0.7257\n",
            "Epoch 14/100\n",
            "23/23 [==============================] - 1s 26ms/step - loss: 0.6949 - accuracy: 0.6949 - val_loss: 0.6749 - val_accuracy: 0.7257\n",
            "Epoch 15/100\n",
            "23/23 [==============================] - 1s 28ms/step - loss: 0.7910 - accuracy: 0.6486 - val_loss: 0.6367 - val_accuracy: 0.6540\n",
            "Epoch 16/100\n",
            "23/23 [==============================] - 1s 27ms/step - loss: 0.7061 - accuracy: 0.6583 - val_loss: 0.5810 - val_accuracy: 0.7764\n",
            "Epoch 17/100\n",
            "23/23 [==============================] - 1s 27ms/step - loss: 0.6471 - accuracy: 0.7241 - val_loss: 0.5929 - val_accuracy: 0.7595\n",
            "Epoch 18/100\n",
            "23/23 [==============================] - 1s 27ms/step - loss: 0.6427 - accuracy: 0.7171 - val_loss: 0.5610 - val_accuracy: 0.8228\n",
            "Epoch 19/100\n",
            "23/23 [==============================] - 1s 26ms/step - loss: 0.6440 - accuracy: 0.7171 - val_loss: 0.5979 - val_accuracy: 0.6920\n",
            "Epoch 20/100\n",
            "23/23 [==============================] - 1s 27ms/step - loss: 0.6374 - accuracy: 0.7369 - val_loss: 0.5896 - val_accuracy: 0.7679\n",
            "Epoch 21/100\n",
            "23/23 [==============================] - 1s 26ms/step - loss: 0.6228 - accuracy: 0.7434 - val_loss: 0.5609 - val_accuracy: 0.8017\n",
            "Epoch 22/100\n",
            "23/23 [==============================] - 1s 27ms/step - loss: 0.5577 - accuracy: 0.7701 - val_loss: 0.5551 - val_accuracy: 0.7637\n",
            "Epoch 23/100\n",
            "23/23 [==============================] - 1s 26ms/step - loss: 0.5464 - accuracy: 0.7759 - val_loss: 0.5457 - val_accuracy: 0.7806\n",
            "Epoch 24/100\n",
            "23/23 [==============================] - 1s 26ms/step - loss: 0.5059 - accuracy: 0.7968 - val_loss: 0.4948 - val_accuracy: 0.8439\n",
            "Epoch 25/100\n",
            "23/23 [==============================] - 1s 27ms/step - loss: 0.4708 - accuracy: 0.8322 - val_loss: 0.5049 - val_accuracy: 0.8270\n",
            "Epoch 26/100\n",
            "23/23 [==============================] - 1s 26ms/step - loss: 0.4989 - accuracy: 0.8161 - val_loss: 0.5594 - val_accuracy: 0.7553\n",
            "Epoch 27/100\n",
            "23/23 [==============================] - 1s 27ms/step - loss: 0.5977 - accuracy: 0.7508 - val_loss: 0.5437 - val_accuracy: 0.7764\n",
            "Epoch 28/100\n",
            "23/23 [==============================] - 1s 26ms/step - loss: 0.5270 - accuracy: 0.7659 - val_loss: 0.5456 - val_accuracy: 0.8017\n",
            "Epoch 29/100\n",
            "23/23 [==============================] - 1s 26ms/step - loss: 0.4754 - accuracy: 0.8375 - val_loss: 0.5086 - val_accuracy: 0.8354\n",
            "Epoch 30/100\n",
            "23/23 [==============================] - 1s 27ms/step - loss: 0.4528 - accuracy: 0.8391 - val_loss: 0.4655 - val_accuracy: 0.8481\n",
            "Epoch 31/100\n",
            "23/23 [==============================] - 1s 26ms/step - loss: 0.4292 - accuracy: 0.8483 - val_loss: 0.4687 - val_accuracy: 0.8270\n",
            "Epoch 32/100\n",
            "23/23 [==============================] - 1s 27ms/step - loss: 0.4384 - accuracy: 0.8312 - val_loss: 0.5054 - val_accuracy: 0.8017\n",
            "Epoch 33/100\n",
            "23/23 [==============================] - 1s 26ms/step - loss: 0.4396 - accuracy: 0.8376 - val_loss: 0.5810 - val_accuracy: 0.8312\n",
            "Epoch 34/100\n",
            "23/23 [==============================] - 1s 27ms/step - loss: 0.4506 - accuracy: 0.8391 - val_loss: 0.4782 - val_accuracy: 0.8270\n",
            "Epoch 35/100\n",
            "23/23 [==============================] - 1s 26ms/step - loss: 0.3417 - accuracy: 0.8863 - val_loss: 0.4974 - val_accuracy: 0.8397\n",
            "Epoch 36/100\n",
            "23/23 [==============================] - 1s 27ms/step - loss: 0.3308 - accuracy: 0.8837 - val_loss: 0.4751 - val_accuracy: 0.8354\n",
            "Epoch 37/100\n",
            "23/23 [==============================] - 1s 27ms/step - loss: 0.3791 - accuracy: 0.8692 - val_loss: 0.4497 - val_accuracy: 0.8312\n",
            "Epoch 38/100\n",
            "23/23 [==============================] - 1s 26ms/step - loss: 0.3104 - accuracy: 0.8896 - val_loss: 0.4906 - val_accuracy: 0.8397\n",
            "Epoch 39/100\n",
            "23/23 [==============================] - 1s 26ms/step - loss: 0.3166 - accuracy: 0.8764 - val_loss: 0.4855 - val_accuracy: 0.8523\n",
            "Epoch 40/100\n",
            "23/23 [==============================] - 1s 26ms/step - loss: 0.2997 - accuracy: 0.9040 - val_loss: 0.5732 - val_accuracy: 0.7679\n",
            "Epoch 41/100\n",
            "23/23 [==============================] - 1s 27ms/step - loss: 0.3818 - accuracy: 0.8394 - val_loss: 0.4626 - val_accuracy: 0.8608\n",
            "Epoch 42/100\n",
            "23/23 [==============================] - 1s 26ms/step - loss: 0.3508 - accuracy: 0.8729 - val_loss: 0.5583 - val_accuracy: 0.8143\n",
            "Epoch 43/100\n",
            "23/23 [==============================] - 1s 27ms/step - loss: 0.2910 - accuracy: 0.8994 - val_loss: 0.6331 - val_accuracy: 0.8059\n",
            "Epoch 44/100\n",
            "23/23 [==============================] - 1s 27ms/step - loss: 0.3053 - accuracy: 0.8906 - val_loss: 0.7347 - val_accuracy: 0.8186\n",
            "Epoch 45/100\n",
            "23/23 [==============================] - 1s 27ms/step - loss: 0.3956 - accuracy: 0.8491 - val_loss: 0.5701 - val_accuracy: 0.8143\n",
            "Epoch 46/100\n",
            "23/23 [==============================] - 1s 27ms/step - loss: 0.3047 - accuracy: 0.8795 - val_loss: 0.5368 - val_accuracy: 0.7975\n",
            "Epoch 47/100\n",
            "23/23 [==============================] - 1s 28ms/step - loss: 0.3122 - accuracy: 0.8883 - val_loss: 0.6663 - val_accuracy: 0.8608\n",
            "Epoch 48/100\n",
            "23/23 [==============================] - 1s 27ms/step - loss: 0.2748 - accuracy: 0.9053 - val_loss: 0.4825 - val_accuracy: 0.8270\n",
            "Epoch 49/100\n",
            "23/23 [==============================] - 1s 27ms/step - loss: 0.2307 - accuracy: 0.9241 - val_loss: 0.5001 - val_accuracy: 0.8734\n",
            "Epoch 50/100\n",
            "23/23 [==============================] - 1s 27ms/step - loss: 0.2677 - accuracy: 0.9146 - val_loss: 0.5483 - val_accuracy: 0.8101\n",
            "Epoch 51/100\n",
            "23/23 [==============================] - 1s 28ms/step - loss: 0.2423 - accuracy: 0.9156 - val_loss: 0.6515 - val_accuracy: 0.7806\n",
            "Epoch 52/100\n",
            "23/23 [==============================] - 1s 27ms/step - loss: 0.3134 - accuracy: 0.8711 - val_loss: 0.6553 - val_accuracy: 0.8481\n",
            "Epoch 53/100\n",
            "23/23 [==============================] - 1s 26ms/step - loss: 0.2417 - accuracy: 0.9305 - val_loss: 0.5180 - val_accuracy: 0.8312\n",
            "Epoch 54/100\n",
            "23/23 [==============================] - 1s 26ms/step - loss: 0.2356 - accuracy: 0.9179 - val_loss: 0.5335 - val_accuracy: 0.8692\n",
            "Epoch 55/100\n",
            "23/23 [==============================] - 1s 28ms/step - loss: 0.2808 - accuracy: 0.8928 - val_loss: 0.5252 - val_accuracy: 0.8312\n",
            "Epoch 56/100\n",
            "23/23 [==============================] - 1s 27ms/step - loss: 0.2664 - accuracy: 0.8889 - val_loss: 0.6344 - val_accuracy: 0.7975\n",
            "Epoch 57/100\n",
            "23/23 [==============================] - 1s 27ms/step - loss: 0.2343 - accuracy: 0.9168 - val_loss: 0.5043 - val_accuracy: 0.8608\n",
            "Epoch 58/100\n",
            "23/23 [==============================] - 1s 27ms/step - loss: 0.2346 - accuracy: 0.9104 - val_loss: 0.6256 - val_accuracy: 0.8481\n",
            "Epoch 59/100\n",
            "23/23 [==============================] - 1s 27ms/step - loss: 0.2078 - accuracy: 0.9359 - val_loss: 0.5913 - val_accuracy: 0.8228\n",
            "Epoch 60/100\n",
            "23/23 [==============================] - 1s 27ms/step - loss: 0.2126 - accuracy: 0.9168 - val_loss: 0.5636 - val_accuracy: 0.8523\n",
            "Epoch 61/100\n",
            "23/23 [==============================] - 1s 26ms/step - loss: 0.1687 - accuracy: 0.9489 - val_loss: 0.7582 - val_accuracy: 0.7932\n",
            "Epoch 62/100\n",
            "23/23 [==============================] - 1s 26ms/step - loss: 0.2250 - accuracy: 0.9301 - val_loss: 0.6477 - val_accuracy: 0.8228\n",
            "Epoch 63/100\n",
            "23/23 [==============================] - 1s 27ms/step - loss: 0.2058 - accuracy: 0.9236 - val_loss: 0.5737 - val_accuracy: 0.8312\n",
            "Epoch 64/100\n",
            "23/23 [==============================] - 1s 26ms/step - loss: 0.1935 - accuracy: 0.9203 - val_loss: 0.5580 - val_accuracy: 0.8565\n",
            "Epoch 65/100\n",
            "23/23 [==============================] - 1s 26ms/step - loss: 0.1353 - accuracy: 0.9473 - val_loss: 0.8046 - val_accuracy: 0.8523\n",
            "Epoch 66/100\n",
            "23/23 [==============================] - 1s 27ms/step - loss: 0.1831 - accuracy: 0.9230 - val_loss: 0.5782 - val_accuracy: 0.8650\n",
            "Epoch 67/100\n",
            "23/23 [==============================] - 1s 27ms/step - loss: 0.2131 - accuracy: 0.9217 - val_loss: 0.7646 - val_accuracy: 0.8692\n",
            "Epoch 68/100\n",
            "23/23 [==============================] - 1s 27ms/step - loss: 0.3038 - accuracy: 0.8940 - val_loss: 0.5350 - val_accuracy: 0.8692\n",
            "Epoch 69/100\n",
            "23/23 [==============================] - 1s 26ms/step - loss: 0.2022 - accuracy: 0.9292 - val_loss: 0.7744 - val_accuracy: 0.8143\n",
            "Epoch 70/100\n",
            "23/23 [==============================] - 1s 28ms/step - loss: 0.1650 - accuracy: 0.9452 - val_loss: 0.5960 - val_accuracy: 0.8565\n",
            "Epoch 71/100\n",
            "23/23 [==============================] - 1s 27ms/step - loss: 0.1508 - accuracy: 0.9453 - val_loss: 0.5961 - val_accuracy: 0.8523\n",
            "Epoch 72/100\n",
            "23/23 [==============================] - 1s 27ms/step - loss: 0.1338 - accuracy: 0.9486 - val_loss: 0.6845 - val_accuracy: 0.7848\n",
            "Epoch 73/100\n",
            "23/23 [==============================] - 1s 27ms/step - loss: 0.1428 - accuracy: 0.9481 - val_loss: 0.6173 - val_accuracy: 0.8354\n",
            "Epoch 74/100\n",
            "23/23 [==============================] - 1s 26ms/step - loss: 0.1369 - accuracy: 0.9469 - val_loss: 0.8217 - val_accuracy: 0.8354\n",
            "Epoch 75/100\n",
            "23/23 [==============================] - 1s 27ms/step - loss: 0.1920 - accuracy: 0.9364 - val_loss: 0.7925 - val_accuracy: 0.7089\n",
            "Epoch 76/100\n",
            "23/23 [==============================] - 1s 26ms/step - loss: 0.1970 - accuracy: 0.9129 - val_loss: 0.8698 - val_accuracy: 0.8143\n",
            "Epoch 77/100\n",
            "23/23 [==============================] - 1s 27ms/step - loss: 0.1901 - accuracy: 0.9260 - val_loss: 0.6093 - val_accuracy: 0.8312\n",
            "Epoch 78/100\n",
            "23/23 [==============================] - 1s 27ms/step - loss: 0.1259 - accuracy: 0.9501 - val_loss: 0.7068 - val_accuracy: 0.8439\n",
            "Epoch 79/100\n",
            "23/23 [==============================] - 1s 27ms/step - loss: 0.1310 - accuracy: 0.9484 - val_loss: 0.6383 - val_accuracy: 0.8439\n",
            "Epoch 80/100\n",
            "23/23 [==============================] - 1s 28ms/step - loss: 0.1129 - accuracy: 0.9599 - val_loss: 0.6361 - val_accuracy: 0.8228\n",
            "Epoch 81/100\n",
            "23/23 [==============================] - 1s 28ms/step - loss: 0.1079 - accuracy: 0.9630 - val_loss: 0.6935 - val_accuracy: 0.8312\n",
            "Epoch 82/100\n",
            "23/23 [==============================] - 1s 27ms/step - loss: 0.0948 - accuracy: 0.9694 - val_loss: 0.7254 - val_accuracy: 0.8270\n",
            "Epoch 83/100\n",
            "23/23 [==============================] - 1s 28ms/step - loss: 0.1484 - accuracy: 0.9445 - val_loss: 0.7500 - val_accuracy: 0.8186\n",
            "Epoch 84/100\n",
            "23/23 [==============================] - 1s 27ms/step - loss: 0.1290 - accuracy: 0.9499 - val_loss: 0.8239 - val_accuracy: 0.8101\n",
            "Epoch 85/100\n",
            "23/23 [==============================] - 1s 27ms/step - loss: 0.2242 - accuracy: 0.9075 - val_loss: 0.7689 - val_accuracy: 0.8523\n",
            "Epoch 86/100\n",
            "23/23 [==============================] - 1s 27ms/step - loss: 0.1202 - accuracy: 0.9501 - val_loss: 0.6652 - val_accuracy: 0.8481\n",
            "Epoch 87/100\n",
            "23/23 [==============================] - 1s 26ms/step - loss: 0.0999 - accuracy: 0.9619 - val_loss: 0.7464 - val_accuracy: 0.7975\n",
            "Epoch 88/100\n",
            "23/23 [==============================] - 1s 27ms/step - loss: 0.0958 - accuracy: 0.9647 - val_loss: 0.6624 - val_accuracy: 0.8354\n",
            "Epoch 89/100\n",
            "23/23 [==============================] - 1s 26ms/step - loss: 0.0937 - accuracy: 0.9642 - val_loss: 0.7265 - val_accuracy: 0.8397\n",
            "Epoch 90/100\n",
            "23/23 [==============================] - 1s 27ms/step - loss: 0.0954 - accuracy: 0.9681 - val_loss: 0.7816 - val_accuracy: 0.8439\n",
            "Epoch 91/100\n",
            "23/23 [==============================] - 1s 27ms/step - loss: 0.1091 - accuracy: 0.9506 - val_loss: 0.6964 - val_accuracy: 0.8650\n",
            "Epoch 92/100\n",
            "23/23 [==============================] - 1s 28ms/step - loss: 0.0916 - accuracy: 0.9683 - val_loss: 0.8028 - val_accuracy: 0.8101\n",
            "Epoch 93/100\n",
            "23/23 [==============================] - 1s 27ms/step - loss: 0.0877 - accuracy: 0.9651 - val_loss: 0.7498 - val_accuracy: 0.8650\n",
            "Epoch 94/100\n",
            "23/23 [==============================] - 1s 28ms/step - loss: 0.0825 - accuracy: 0.9660 - val_loss: 0.6570 - val_accuracy: 0.8439\n",
            "Epoch 95/100\n",
            "23/23 [==============================] - 1s 28ms/step - loss: 0.0680 - accuracy: 0.9800 - val_loss: 0.9116 - val_accuracy: 0.7975\n",
            "Epoch 96/100\n",
            "23/23 [==============================] - 1s 27ms/step - loss: 0.3796 - accuracy: 0.8584 - val_loss: 0.6057 - val_accuracy: 0.8312\n",
            "Epoch 97/100\n",
            "23/23 [==============================] - 1s 27ms/step - loss: 0.2421 - accuracy: 0.9128 - val_loss: 0.8402 - val_accuracy: 0.7764\n",
            "Epoch 98/100\n",
            "23/23 [==============================] - 1s 27ms/step - loss: 0.1324 - accuracy: 0.9618 - val_loss: 0.8683 - val_accuracy: 0.7932\n",
            "Epoch 99/100\n",
            "23/23 [==============================] - 1s 28ms/step - loss: 0.1186 - accuracy: 0.9592 - val_loss: 0.6657 - val_accuracy: 0.8439\n",
            "Epoch 100/100\n",
            "23/23 [==============================] - 1s 28ms/step - loss: 0.0881 - accuracy: 0.9711 - val_loss: 0.6229 - val_accuracy: 0.8481\n"
          ],
          "name": "stdout"
        }
      ]
    },
    {
      "cell_type": "code",
      "metadata": {
        "colab": {
          "base_uri": "https://localhost:8080/",
          "height": 590
        },
        "id": "lnl8PB6hOWnK",
        "outputId": "1ef60ce1-45f2-438c-a3ce-c6c97bb55d51"
      },
      "source": [
        "import matplotlib.pyplot as plt\n",
        "\n",
        "print(H.history.keys())\n",
        "# summarize history for accuracy\n",
        "plt.plot(H.history['accuracy'])\n",
        "plt.plot(H.history['val_accuracy'])\n",
        "plt.title('model accuracy')\n",
        "plt.ylabel('accuracy')\n",
        "plt.xlabel('epoch')\n",
        "plt.legend(['train', 'test'], loc='upper left')\n",
        "plt.show()\n",
        "# summarize history for loss\n",
        "plt.plot(H.history['loss'])\n",
        "plt.plot(H.history['val_loss'])\n",
        "plt.title('model loss')\n",
        "plt.ylabel('loss')\n",
        "plt.xlabel('epoch')\n",
        "plt.legend(['train', 'test'], loc='upper left')\n",
        "plt.show()"
      ],
      "execution_count": 78,
      "outputs": [
        {
          "output_type": "stream",
          "text": [
            "dict_keys(['loss', 'accuracy', 'val_loss', 'val_accuracy'])\n"
          ],
          "name": "stdout"
        },
        {
          "output_type": "display_data",
          "data": {
            "image/png": "[encoded data removed]",
            "text/plain": [
              "<Figure size 432x288 with 1 Axes>"
            ]
          },
          "metadata": {
            "tags": [],
            "needs_background": "light"
          }
        },
        {
          "output_type": "display_data",
          "data": {
            "image/png": "[encoded data removed]",
            "text/plain": [
              "<Figure size 432x288 with 1 Axes>"
            ]
          },
          "metadata": {
            "tags": [],
            "needs_background": "light"
          }
        }
      ]
    },
    {
      "cell_type": "code",
      "metadata": {
        "id": "DmqMJ5P3Oc6w",
        "colab": {
          "base_uri": "https://localhost:8080/"
        },
        "outputId": "dd4ea755-4e1e-47cd-88db-73c9078950c5"
      },
      "source": [
        "# evaluate the network\n",
        "print(\"[INFO] evaluating network...\")\n",
        "predictions = model.predict(testX, batch_size=32)\n",
        "print(classification_report(testY.argmax(axis=1),\n",
        "\tpredictions.argmax(axis=1), target_names=lb.classes_))"
      ],
      "execution_count": 79,
      "outputs": [
        {
          "output_type": "stream",
          "text": [
            "[INFO] evaluating network...\n",
            "WARNING:tensorflow:Model was constructed with shape (None, 12288) for input KerasTensor(type_spec=TensorSpec(shape=(None, 12288), dtype=tf.float32, name='flatten_11_input'), name='flatten_11_input', description=\"created by layer 'flatten_11_input'\"), but it was called on an input with incompatible shape (None, 64, 64, 3).\n",
            "              precision    recall  f1-score   support\n",
            "\n",
            "       coast       0.87      0.88      0.87        91\n",
            "      forest       0.94      0.76      0.84        80\n",
            "     highway       0.75      0.91      0.82        66\n",
            "\n",
            "    accuracy                           0.85       237\n",
            "   macro avg       0.85      0.85      0.85       237\n",
            "weighted avg       0.86      0.85      0.85       237\n",
            "\n"
          ],
          "name": "stdout"
        }
      ]
    }
  ]
}